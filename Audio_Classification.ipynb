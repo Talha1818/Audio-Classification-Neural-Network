{
  "nbformat": 4,
  "nbformat_minor": 0,
  "metadata": {
    "colab": {
      "provenance": [],
      "machine_shape": "hm",
      "mount_file_id": "1srvb71MYqbfpCAIdHDmtVGyoxy79YMP0",
      "authorship_tag": "ABX9TyPeteNjdzV21VQt9XeDZEgH",
      "include_colab_link": true
    },
    "kernelspec": {
      "name": "python3",
      "display_name": "Python 3"
    },
    "language_info": {
      "name": "python"
    },
    "accelerator": "TPU",
    "gpuClass": "standard",
    "widgets": {
      "application/vnd.jupyter.widget-state+json": {
        "9a605dec907d482b9f7e7493a54653ae": {
          "model_module": "@jupyter-widgets/controls",
          "model_name": "HBoxModel",
          "model_module_version": "1.5.0",
          "state": {
            "_dom_classes": [],
            "_model_module": "@jupyter-widgets/controls",
            "_model_module_version": "1.5.0",
            "_model_name": "HBoxModel",
            "_view_count": null,
            "_view_module": "@jupyter-widgets/controls",
            "_view_module_version": "1.5.0",
            "_view_name": "HBoxView",
            "box_style": "",
            "children": [
              "IPY_MODEL_ccedbb11d931447db0a9341448bfd69c",
              "IPY_MODEL_327649bd7f9a492a94375f6f6d630126",
              "IPY_MODEL_9877ec46ae0f44328434f2aa6d5e2262"
            ],
            "layout": "IPY_MODEL_2cb3b87cbb964240866e036ba2fb7056"
          }
        },
        "ccedbb11d931447db0a9341448bfd69c": {
          "model_module": "@jupyter-widgets/controls",
          "model_name": "HTMLModel",
          "model_module_version": "1.5.0",
          "state": {
            "_dom_classes": [],
            "_model_module": "@jupyter-widgets/controls",
            "_model_module_version": "1.5.0",
            "_model_name": "HTMLModel",
            "_view_count": null,
            "_view_module": "@jupyter-widgets/controls",
            "_view_module_version": "1.5.0",
            "_view_name": "HTMLView",
            "description": "",
            "description_tooltip": null,
            "layout": "IPY_MODEL_0e208b90aa5d43e484088d91639c5748",
            "placeholder": "​",
            "style": "IPY_MODEL_3e6ec5396c61444daad5330cc30d3409",
            "value": "100%"
          }
        },
        "327649bd7f9a492a94375f6f6d630126": {
          "model_module": "@jupyter-widgets/controls",
          "model_name": "FloatProgressModel",
          "model_module_version": "1.5.0",
          "state": {
            "_dom_classes": [],
            "_model_module": "@jupyter-widgets/controls",
            "_model_module_version": "1.5.0",
            "_model_name": "FloatProgressModel",
            "_view_count": null,
            "_view_module": "@jupyter-widgets/controls",
            "_view_module_version": "1.5.0",
            "_view_name": "ProgressView",
            "bar_style": "success",
            "description": "",
            "description_tooltip": null,
            "layout": "IPY_MODEL_5635c98b68ba4d128717fc3959a6e680",
            "max": 131,
            "min": 0,
            "orientation": "horizontal",
            "style": "IPY_MODEL_ec8e1d21ebfe4e56a996f31d2d7feec4",
            "value": 131
          }
        },
        "9877ec46ae0f44328434f2aa6d5e2262": {
          "model_module": "@jupyter-widgets/controls",
          "model_name": "HTMLModel",
          "model_module_version": "1.5.0",
          "state": {
            "_dom_classes": [],
            "_model_module": "@jupyter-widgets/controls",
            "_model_module_version": "1.5.0",
            "_model_name": "HTMLModel",
            "_view_count": null,
            "_view_module": "@jupyter-widgets/controls",
            "_view_module_version": "1.5.0",
            "_view_name": "HTMLView",
            "description": "",
            "description_tooltip": null,
            "layout": "IPY_MODEL_4ad770efb03e45f19325cd565b2ec81e",
            "placeholder": "​",
            "style": "IPY_MODEL_57593df7e5a84ba6837305c3382db36a",
            "value": " 131/131 [01:00&lt;00:00,  2.80it/s]"
          }
        },
        "2cb3b87cbb964240866e036ba2fb7056": {
          "model_module": "@jupyter-widgets/base",
          "model_name": "LayoutModel",
          "model_module_version": "1.2.0",
          "state": {
            "_model_module": "@jupyter-widgets/base",
            "_model_module_version": "1.2.0",
            "_model_name": "LayoutModel",
            "_view_count": null,
            "_view_module": "@jupyter-widgets/base",
            "_view_module_version": "1.2.0",
            "_view_name": "LayoutView",
            "align_content": null,
            "align_items": null,
            "align_self": null,
            "border": null,
            "bottom": null,
            "display": null,
            "flex": null,
            "flex_flow": null,
            "grid_area": null,
            "grid_auto_columns": null,
            "grid_auto_flow": null,
            "grid_auto_rows": null,
            "grid_column": null,
            "grid_gap": null,
            "grid_row": null,
            "grid_template_areas": null,
            "grid_template_columns": null,
            "grid_template_rows": null,
            "height": null,
            "justify_content": null,
            "justify_items": null,
            "left": null,
            "margin": null,
            "max_height": null,
            "max_width": null,
            "min_height": null,
            "min_width": null,
            "object_fit": null,
            "object_position": null,
            "order": null,
            "overflow": null,
            "overflow_x": null,
            "overflow_y": null,
            "padding": null,
            "right": null,
            "top": null,
            "visibility": null,
            "width": null
          }
        },
        "0e208b90aa5d43e484088d91639c5748": {
          "model_module": "@jupyter-widgets/base",
          "model_name": "LayoutModel",
          "model_module_version": "1.2.0",
          "state": {
            "_model_module": "@jupyter-widgets/base",
            "_model_module_version": "1.2.0",
            "_model_name": "LayoutModel",
            "_view_count": null,
            "_view_module": "@jupyter-widgets/base",
            "_view_module_version": "1.2.0",
            "_view_name": "LayoutView",
            "align_content": null,
            "align_items": null,
            "align_self": null,
            "border": null,
            "bottom": null,
            "display": null,
            "flex": null,
            "flex_flow": null,
            "grid_area": null,
            "grid_auto_columns": null,
            "grid_auto_flow": null,
            "grid_auto_rows": null,
            "grid_column": null,
            "grid_gap": null,
            "grid_row": null,
            "grid_template_areas": null,
            "grid_template_columns": null,
            "grid_template_rows": null,
            "height": null,
            "justify_content": null,
            "justify_items": null,
            "left": null,
            "margin": null,
            "max_height": null,
            "max_width": null,
            "min_height": null,
            "min_width": null,
            "object_fit": null,
            "object_position": null,
            "order": null,
            "overflow": null,
            "overflow_x": null,
            "overflow_y": null,
            "padding": null,
            "right": null,
            "top": null,
            "visibility": null,
            "width": null
          }
        },
        "3e6ec5396c61444daad5330cc30d3409": {
          "model_module": "@jupyter-widgets/controls",
          "model_name": "DescriptionStyleModel",
          "model_module_version": "1.5.0",
          "state": {
            "_model_module": "@jupyter-widgets/controls",
            "_model_module_version": "1.5.0",
            "_model_name": "DescriptionStyleModel",
            "_view_count": null,
            "_view_module": "@jupyter-widgets/base",
            "_view_module_version": "1.2.0",
            "_view_name": "StyleView",
            "description_width": ""
          }
        },
        "5635c98b68ba4d128717fc3959a6e680": {
          "model_module": "@jupyter-widgets/base",
          "model_name": "LayoutModel",
          "model_module_version": "1.2.0",
          "state": {
            "_model_module": "@jupyter-widgets/base",
            "_model_module_version": "1.2.0",
            "_model_name": "LayoutModel",
            "_view_count": null,
            "_view_module": "@jupyter-widgets/base",
            "_view_module_version": "1.2.0",
            "_view_name": "LayoutView",
            "align_content": null,
            "align_items": null,
            "align_self": null,
            "border": null,
            "bottom": null,
            "display": null,
            "flex": null,
            "flex_flow": null,
            "grid_area": null,
            "grid_auto_columns": null,
            "grid_auto_flow": null,
            "grid_auto_rows": null,
            "grid_column": null,
            "grid_gap": null,
            "grid_row": null,
            "grid_template_areas": null,
            "grid_template_columns": null,
            "grid_template_rows": null,
            "height": null,
            "justify_content": null,
            "justify_items": null,
            "left": null,
            "margin": null,
            "max_height": null,
            "max_width": null,
            "min_height": null,
            "min_width": null,
            "object_fit": null,
            "object_position": null,
            "order": null,
            "overflow": null,
            "overflow_x": null,
            "overflow_y": null,
            "padding": null,
            "right": null,
            "top": null,
            "visibility": null,
            "width": null
          }
        },
        "ec8e1d21ebfe4e56a996f31d2d7feec4": {
          "model_module": "@jupyter-widgets/controls",
          "model_name": "ProgressStyleModel",
          "model_module_version": "1.5.0",
          "state": {
            "_model_module": "@jupyter-widgets/controls",
            "_model_module_version": "1.5.0",
            "_model_name": "ProgressStyleModel",
            "_view_count": null,
            "_view_module": "@jupyter-widgets/base",
            "_view_module_version": "1.2.0",
            "_view_name": "StyleView",
            "bar_color": null,
            "description_width": ""
          }
        },
        "4ad770efb03e45f19325cd565b2ec81e": {
          "model_module": "@jupyter-widgets/base",
          "model_name": "LayoutModel",
          "model_module_version": "1.2.0",
          "state": {
            "_model_module": "@jupyter-widgets/base",
            "_model_module_version": "1.2.0",
            "_model_name": "LayoutModel",
            "_view_count": null,
            "_view_module": "@jupyter-widgets/base",
            "_view_module_version": "1.2.0",
            "_view_name": "LayoutView",
            "align_content": null,
            "align_items": null,
            "align_self": null,
            "border": null,
            "bottom": null,
            "display": null,
            "flex": null,
            "flex_flow": null,
            "grid_area": null,
            "grid_auto_columns": null,
            "grid_auto_flow": null,
            "grid_auto_rows": null,
            "grid_column": null,
            "grid_gap": null,
            "grid_row": null,
            "grid_template_areas": null,
            "grid_template_columns": null,
            "grid_template_rows": null,
            "height": null,
            "justify_content": null,
            "justify_items": null,
            "left": null,
            "margin": null,
            "max_height": null,
            "max_width": null,
            "min_height": null,
            "min_width": null,
            "object_fit": null,
            "object_position": null,
            "order": null,
            "overflow": null,
            "overflow_x": null,
            "overflow_y": null,
            "padding": null,
            "right": null,
            "top": null,
            "visibility": null,
            "width": null
          }
        },
        "57593df7e5a84ba6837305c3382db36a": {
          "model_module": "@jupyter-widgets/controls",
          "model_name": "DescriptionStyleModel",
          "model_module_version": "1.5.0",
          "state": {
            "_model_module": "@jupyter-widgets/controls",
            "_model_module_version": "1.5.0",
            "_model_name": "DescriptionStyleModel",
            "_view_count": null,
            "_view_module": "@jupyter-widgets/base",
            "_view_module_version": "1.2.0",
            "_view_name": "StyleView",
            "description_width": ""
          }
        },
        "201f4a5a5fa7479c9898000cec9290bb": {
          "model_module": "@jupyter-widgets/controls",
          "model_name": "HBoxModel",
          "model_module_version": "1.5.0",
          "state": {
            "_dom_classes": [],
            "_model_module": "@jupyter-widgets/controls",
            "_model_module_version": "1.5.0",
            "_model_name": "HBoxModel",
            "_view_count": null,
            "_view_module": "@jupyter-widgets/controls",
            "_view_module_version": "1.5.0",
            "_view_name": "HBoxView",
            "box_style": "",
            "children": [
              "IPY_MODEL_b9858267bff74be5afbd4aa642b45352",
              "IPY_MODEL_4a2a6b3bb0d14976a84567bc95de1c7f",
              "IPY_MODEL_eae594f6845d492f9bd4177d3b9e5408"
            ],
            "layout": "IPY_MODEL_cbdbec886c6b46b89340114732c5fa89"
          }
        },
        "b9858267bff74be5afbd4aa642b45352": {
          "model_module": "@jupyter-widgets/controls",
          "model_name": "HTMLModel",
          "model_module_version": "1.5.0",
          "state": {
            "_dom_classes": [],
            "_model_module": "@jupyter-widgets/controls",
            "_model_module_version": "1.5.0",
            "_model_name": "HTMLModel",
            "_view_count": null,
            "_view_module": "@jupyter-widgets/controls",
            "_view_module_version": "1.5.0",
            "_view_name": "HTMLView",
            "description": "",
            "description_tooltip": null,
            "layout": "IPY_MODEL_ad83a339485a46ffa0a0f8c28a27ba22",
            "placeholder": "​",
            "style": "IPY_MODEL_071f29007cbe41d283c51b6d69e1f619",
            "value": "100%"
          }
        },
        "4a2a6b3bb0d14976a84567bc95de1c7f": {
          "model_module": "@jupyter-widgets/controls",
          "model_name": "FloatProgressModel",
          "model_module_version": "1.5.0",
          "state": {
            "_dom_classes": [],
            "_model_module": "@jupyter-widgets/controls",
            "_model_module_version": "1.5.0",
            "_model_name": "FloatProgressModel",
            "_view_count": null,
            "_view_module": "@jupyter-widgets/controls",
            "_view_module_version": "1.5.0",
            "_view_name": "ProgressView",
            "bar_style": "success",
            "description": "",
            "description_tooltip": null,
            "layout": "IPY_MODEL_160fc5420de24ab3b5ad8819561a740d",
            "max": 169,
            "min": 0,
            "orientation": "horizontal",
            "style": "IPY_MODEL_2c129afd095c4abb82d2a6c0d40c96e4",
            "value": 169
          }
        },
        "eae594f6845d492f9bd4177d3b9e5408": {
          "model_module": "@jupyter-widgets/controls",
          "model_name": "HTMLModel",
          "model_module_version": "1.5.0",
          "state": {
            "_dom_classes": [],
            "_model_module": "@jupyter-widgets/controls",
            "_model_module_version": "1.5.0",
            "_model_name": "HTMLModel",
            "_view_count": null,
            "_view_module": "@jupyter-widgets/controls",
            "_view_module_version": "1.5.0",
            "_view_name": "HTMLView",
            "description": "",
            "description_tooltip": null,
            "layout": "IPY_MODEL_40783f3225bc4eb387a98b41d05dd755",
            "placeholder": "​",
            "style": "IPY_MODEL_eb5115be94134b2da21abf50f9f73efa",
            "value": " 169/169 [00:47&lt;00:00,  3.89it/s]"
          }
        },
        "cbdbec886c6b46b89340114732c5fa89": {
          "model_module": "@jupyter-widgets/base",
          "model_name": "LayoutModel",
          "model_module_version": "1.2.0",
          "state": {
            "_model_module": "@jupyter-widgets/base",
            "_model_module_version": "1.2.0",
            "_model_name": "LayoutModel",
            "_view_count": null,
            "_view_module": "@jupyter-widgets/base",
            "_view_module_version": "1.2.0",
            "_view_name": "LayoutView",
            "align_content": null,
            "align_items": null,
            "align_self": null,
            "border": null,
            "bottom": null,
            "display": null,
            "flex": null,
            "flex_flow": null,
            "grid_area": null,
            "grid_auto_columns": null,
            "grid_auto_flow": null,
            "grid_auto_rows": null,
            "grid_column": null,
            "grid_gap": null,
            "grid_row": null,
            "grid_template_areas": null,
            "grid_template_columns": null,
            "grid_template_rows": null,
            "height": null,
            "justify_content": null,
            "justify_items": null,
            "left": null,
            "margin": null,
            "max_height": null,
            "max_width": null,
            "min_height": null,
            "min_width": null,
            "object_fit": null,
            "object_position": null,
            "order": null,
            "overflow": null,
            "overflow_x": null,
            "overflow_y": null,
            "padding": null,
            "right": null,
            "top": null,
            "visibility": null,
            "width": null
          }
        },
        "ad83a339485a46ffa0a0f8c28a27ba22": {
          "model_module": "@jupyter-widgets/base",
          "model_name": "LayoutModel",
          "model_module_version": "1.2.0",
          "state": {
            "_model_module": "@jupyter-widgets/base",
            "_model_module_version": "1.2.0",
            "_model_name": "LayoutModel",
            "_view_count": null,
            "_view_module": "@jupyter-widgets/base",
            "_view_module_version": "1.2.0",
            "_view_name": "LayoutView",
            "align_content": null,
            "align_items": null,
            "align_self": null,
            "border": null,
            "bottom": null,
            "display": null,
            "flex": null,
            "flex_flow": null,
            "grid_area": null,
            "grid_auto_columns": null,
            "grid_auto_flow": null,
            "grid_auto_rows": null,
            "grid_column": null,
            "grid_gap": null,
            "grid_row": null,
            "grid_template_areas": null,
            "grid_template_columns": null,
            "grid_template_rows": null,
            "height": null,
            "justify_content": null,
            "justify_items": null,
            "left": null,
            "margin": null,
            "max_height": null,
            "max_width": null,
            "min_height": null,
            "min_width": null,
            "object_fit": null,
            "object_position": null,
            "order": null,
            "overflow": null,
            "overflow_x": null,
            "overflow_y": null,
            "padding": null,
            "right": null,
            "top": null,
            "visibility": null,
            "width": null
          }
        },
        "071f29007cbe41d283c51b6d69e1f619": {
          "model_module": "@jupyter-widgets/controls",
          "model_name": "DescriptionStyleModel",
          "model_module_version": "1.5.0",
          "state": {
            "_model_module": "@jupyter-widgets/controls",
            "_model_module_version": "1.5.0",
            "_model_name": "DescriptionStyleModel",
            "_view_count": null,
            "_view_module": "@jupyter-widgets/base",
            "_view_module_version": "1.2.0",
            "_view_name": "StyleView",
            "description_width": ""
          }
        },
        "160fc5420de24ab3b5ad8819561a740d": {
          "model_module": "@jupyter-widgets/base",
          "model_name": "LayoutModel",
          "model_module_version": "1.2.0",
          "state": {
            "_model_module": "@jupyter-widgets/base",
            "_model_module_version": "1.2.0",
            "_model_name": "LayoutModel",
            "_view_count": null,
            "_view_module": "@jupyter-widgets/base",
            "_view_module_version": "1.2.0",
            "_view_name": "LayoutView",
            "align_content": null,
            "align_items": null,
            "align_self": null,
            "border": null,
            "bottom": null,
            "display": null,
            "flex": null,
            "flex_flow": null,
            "grid_area": null,
            "grid_auto_columns": null,
            "grid_auto_flow": null,
            "grid_auto_rows": null,
            "grid_column": null,
            "grid_gap": null,
            "grid_row": null,
            "grid_template_areas": null,
            "grid_template_columns": null,
            "grid_template_rows": null,
            "height": null,
            "justify_content": null,
            "justify_items": null,
            "left": null,
            "margin": null,
            "max_height": null,
            "max_width": null,
            "min_height": null,
            "min_width": null,
            "object_fit": null,
            "object_position": null,
            "order": null,
            "overflow": null,
            "overflow_x": null,
            "overflow_y": null,
            "padding": null,
            "right": null,
            "top": null,
            "visibility": null,
            "width": null
          }
        },
        "2c129afd095c4abb82d2a6c0d40c96e4": {
          "model_module": "@jupyter-widgets/controls",
          "model_name": "ProgressStyleModel",
          "model_module_version": "1.5.0",
          "state": {
            "_model_module": "@jupyter-widgets/controls",
            "_model_module_version": "1.5.0",
            "_model_name": "ProgressStyleModel",
            "_view_count": null,
            "_view_module": "@jupyter-widgets/base",
            "_view_module_version": "1.2.0",
            "_view_name": "StyleView",
            "bar_color": null,
            "description_width": ""
          }
        },
        "40783f3225bc4eb387a98b41d05dd755": {
          "model_module": "@jupyter-widgets/base",
          "model_name": "LayoutModel",
          "model_module_version": "1.2.0",
          "state": {
            "_model_module": "@jupyter-widgets/base",
            "_model_module_version": "1.2.0",
            "_model_name": "LayoutModel",
            "_view_count": null,
            "_view_module": "@jupyter-widgets/base",
            "_view_module_version": "1.2.0",
            "_view_name": "LayoutView",
            "align_content": null,
            "align_items": null,
            "align_self": null,
            "border": null,
            "bottom": null,
            "display": null,
            "flex": null,
            "flex_flow": null,
            "grid_area": null,
            "grid_auto_columns": null,
            "grid_auto_flow": null,
            "grid_auto_rows": null,
            "grid_column": null,
            "grid_gap": null,
            "grid_row": null,
            "grid_template_areas": null,
            "grid_template_columns": null,
            "grid_template_rows": null,
            "height": null,
            "justify_content": null,
            "justify_items": null,
            "left": null,
            "margin": null,
            "max_height": null,
            "max_width": null,
            "min_height": null,
            "min_width": null,
            "object_fit": null,
            "object_position": null,
            "order": null,
            "overflow": null,
            "overflow_x": null,
            "overflow_y": null,
            "padding": null,
            "right": null,
            "top": null,
            "visibility": null,
            "width": null
          }
        },
        "eb5115be94134b2da21abf50f9f73efa": {
          "model_module": "@jupyter-widgets/controls",
          "model_name": "DescriptionStyleModel",
          "model_module_version": "1.5.0",
          "state": {
            "_model_module": "@jupyter-widgets/controls",
            "_model_module_version": "1.5.0",
            "_model_name": "DescriptionStyleModel",
            "_view_count": null,
            "_view_module": "@jupyter-widgets/base",
            "_view_module_version": "1.2.0",
            "_view_name": "StyleView",
            "description_width": ""
          }
        }
      }
    }
  },
  "cells": [
    {
      "cell_type": "markdown",
      "metadata": {
        "id": "view-in-github",
        "colab_type": "text"
      },
      "source": [
        "<a href=\"https://colab.research.google.com/github/Talha1818/Audio-Classification-Neural-Network/blob/master/Audio_Classification.ipynb\" target=\"_parent\"><img src=\"https://colab.research.google.com/assets/colab-badge.svg\" alt=\"Open In Colab\"/></a>"
      ]
    },
    {
      "cell_type": "code",
      "source": [
        "# !pip install --upgrade librosa\n",
        "# !pip install numba==0.48.0"
      ],
      "metadata": {
        "id": "Yol1nis4Vnrf"
      },
      "execution_count": null,
      "outputs": []
    },
    {
      "cell_type": "code",
      "source": [
        "# !pip install --upgrade setuptools"
      ],
      "metadata": {
        "id": "-8cRKryZWIRz"
      },
      "execution_count": null,
      "outputs": []
    },
    {
      "cell_type": "code",
      "source": [
        "# !pip install resampy"
      ],
      "metadata": {
        "id": "DanNGAynWcOe"
      },
      "execution_count": null,
      "outputs": []
    },
    {
      "cell_type": "code",
      "source": [
        "import os\n",
        "import librosa\n",
        "import numpy as np\n",
        "from tqdm.auto import tqdm\n",
        "from sklearn.model_selection import train_test_split\n",
        "from sklearn.preprocessing import LabelEncoder\n",
        "from tensorflow.keras.models import Sequential\n",
        "from tensorflow.keras.layers import Dense, Dropout, Activation\n",
        "from tensorflow.keras.optimizers import Adam"
      ],
      "metadata": {
        "id": "tmla585RZnte"
      },
      "execution_count": null,
      "outputs": []
    },
    {
      "cell_type": "code",
      "execution_count": null,
      "metadata": {
        "id": "W8n9x0G7S-ac"
      },
      "outputs": [],
      "source": [
        "# Set the path to the audio folders\n",
        "car_horn_folder = '/content/drive/MyDrive/Audio_datasets/Car_honk'\n",
        "dog_bark_folder = '/content/drive/MyDrive/Audio_datasets/Dog_bark'\n",
        "\n",
        "# Define a function to extract MFCC features from audio files\n",
        "def extract_features(file_path):\n",
        "    audio, sample_rate = librosa.load(file_path, res_type='kaiser_fast')\n",
        "    mfccs = librosa.feature.mfcc(y=audio, sr=sample_rate, n_mfcc=40)\n",
        "    mfccs_scaled = np.mean(mfccs.T, axis=0)\n",
        "    return mfccs_scaled"
      ]
    },
    {
      "cell_type": "code",
      "source": [
        "# !pip install --upgrade numba"
      ],
      "metadata": {
        "id": "bxKkS3xnVWSV"
      },
      "execution_count": null,
      "outputs": []
    },
    {
      "cell_type": "code",
      "source": [
        "# Extract features and labels from audio files\n",
        "features = []\n",
        "labels = []\n",
        "for file_name in tqdm(os.listdir(car_horn_folder)):\n",
        "    file_path = os.path.join(car_horn_folder, file_name)\n",
        "    features.append(extract_features(file_path))\n",
        "    labels.append('car_horn')\n",
        "for file_name in tqdm(os.listdir(dog_bark_folder)):\n",
        "    file_path = os.path.join(dog_bark_folder, file_name)\n",
        "    features.append(extract_features(file_path))\n",
        "    labels.append('dog_bark')"
      ],
      "metadata": {
        "colab": {
          "base_uri": "https://localhost:8080/",
          "height": 413,
          "referenced_widgets": [
            "9a605dec907d482b9f7e7493a54653ae",
            "ccedbb11d931447db0a9341448bfd69c",
            "327649bd7f9a492a94375f6f6d630126",
            "9877ec46ae0f44328434f2aa6d5e2262",
            "2cb3b87cbb964240866e036ba2fb7056",
            "0e208b90aa5d43e484088d91639c5748",
            "3e6ec5396c61444daad5330cc30d3409",
            "5635c98b68ba4d128717fc3959a6e680",
            "ec8e1d21ebfe4e56a996f31d2d7feec4",
            "4ad770efb03e45f19325cd565b2ec81e",
            "57593df7e5a84ba6837305c3382db36a",
            "201f4a5a5fa7479c9898000cec9290bb",
            "b9858267bff74be5afbd4aa642b45352",
            "4a2a6b3bb0d14976a84567bc95de1c7f",
            "eae594f6845d492f9bd4177d3b9e5408",
            "cbdbec886c6b46b89340114732c5fa89",
            "ad83a339485a46ffa0a0f8c28a27ba22",
            "071f29007cbe41d283c51b6d69e1f619",
            "160fc5420de24ab3b5ad8819561a740d",
            "2c129afd095c4abb82d2a6c0d40c96e4",
            "40783f3225bc4eb387a98b41d05dd755",
            "eb5115be94134b2da21abf50f9f73efa"
          ]
        },
        "id": "BhKyYMyrUsiy",
        "outputId": "a1d281c1-b745-4d7e-d4e3-dc4df95f0c16"
      },
      "execution_count": null,
      "outputs": [
        {
          "output_type": "display_data",
          "data": {
            "text/plain": [
              "  0%|          | 0/131 [00:00<?, ?it/s]"
            ],
            "application/vnd.jupyter.widget-view+json": {
              "version_major": 2,
              "version_minor": 0,
              "model_id": "9a605dec907d482b9f7e7493a54653ae"
            }
          },
          "metadata": {}
        },
        {
          "output_type": "display_data",
          "data": {
            "text/plain": [
              "  0%|          | 0/169 [00:00<?, ?it/s]"
            ],
            "application/vnd.jupyter.widget-view+json": {
              "version_major": 2,
              "version_minor": 0,
              "model_id": "201f4a5a5fa7479c9898000cec9290bb"
            }
          },
          "metadata": {}
        },
        {
          "output_type": "stream",
          "name": "stderr",
          "text": [
            "<ipython-input-1-74875560436f>:16: UserWarning: PySoundFile failed. Trying audioread instead.\n",
            "  audio, sample_rate = librosa.load(file_path, res_type='kaiser_fast')\n",
            "/usr/local/lib/python3.9/dist-packages/librosa/core/audio.py:184: FutureWarning: librosa.core.audio.__audioread_load\n",
            "\tDeprecated as of librosa version 0.10.0.\n",
            "\tIt will be removed in librosa version 1.0.\n",
            "  y, sr_native = __audioread_load(path, offset, duration, dtype)\n",
            "<ipython-input-1-74875560436f>:16: UserWarning: PySoundFile failed. Trying audioread instead.\n",
            "  audio, sample_rate = librosa.load(file_path, res_type='kaiser_fast')\n",
            "/usr/local/lib/python3.9/dist-packages/librosa/core/audio.py:184: FutureWarning: librosa.core.audio.__audioread_load\n",
            "\tDeprecated as of librosa version 0.10.0.\n",
            "\tIt will be removed in librosa version 1.0.\n",
            "  y, sr_native = __audioread_load(path, offset, duration, dtype)\n",
            "<ipython-input-1-74875560436f>:16: UserWarning: PySoundFile failed. Trying audioread instead.\n",
            "  audio, sample_rate = librosa.load(file_path, res_type='kaiser_fast')\n",
            "/usr/local/lib/python3.9/dist-packages/librosa/core/audio.py:184: FutureWarning: librosa.core.audio.__audioread_load\n",
            "\tDeprecated as of librosa version 0.10.0.\n",
            "\tIt will be removed in librosa version 1.0.\n",
            "  y, sr_native = __audioread_load(path, offset, duration, dtype)\n"
          ]
        }
      ]
    },
    {
      "cell_type": "code",
      "source": [
        "import pandas as pd\n",
        "import matplotlib.pyplot as plt\n",
        "\n",
        "plt.figure(figsize=(6,4))\n",
        "# Create a pandas series from the labels list\n",
        "label_counts = pd.Series(labels).value_counts()\n",
        "\n",
        "# Define colors for each category\n",
        "colors = ['blue', 'green']\n",
        "\n",
        "# Create a barplot with different colors for each bar\n",
        "ax = label_counts.plot(kind='bar', color=colors)\n",
        "\n",
        "# Set the title and axis labels\n",
        "ax.set_title('Frequency of Audio Categories')\n",
        "ax.set_xlabel('Category')\n",
        "ax.set_ylabel('Frequency')\n",
        "\n",
        "# Add count values to the bars\n",
        "for i, v in enumerate(label_counts.values):\n",
        "    ax.text(i, v, str(v), ha='center')\n",
        "\n",
        "# Display the plot\n",
        "plt.show()\n"
      ],
      "metadata": {
        "colab": {
          "base_uri": "https://localhost:8080/",
          "height": 461
        },
        "id": "7dj4vqNoYy_s",
        "outputId": "2aea1eea-5ada-49b8-c85e-fe49c57d25fb"
      },
      "execution_count": null,
      "outputs": [
        {
          "output_type": "display_data",
          "data": {
            "text/plain": [
              "<Figure size 600x400 with 1 Axes>"
            ],
            "image/png": "[encoded data removed]"
          },
          "metadata": {}
        }
      ]
    },
    {
      "cell_type": "code",
      "source": [
        "import random\n",
        "random.seed(42)"
      ],
      "metadata": {
        "id": "bRZOrJ3rXd7l"
      },
      "execution_count": null,
      "outputs": []
    },
    {
      "cell_type": "code",
      "source": [
        "# Encode the labels as integers\n",
        "le = LabelEncoder()\n",
        "labels_encoded = le.fit_transform(labels)\n",
        "\n",
        "# Split the data into training and testing sets\n",
        "X_train, X_test, y_train, y_test = train_test_split(np.array(features), labels_encoded, test_size=0.2, random_state=0)\n"
      ],
      "metadata": {
        "id": "0EjKvajZUXyi"
      },
      "execution_count": null,
      "outputs": []
    },
    {
      "cell_type": "code",
      "source": [
        "print(\"Training Shape:\", X_train.shape)\n",
        "print(\"Testing Shape:\", X_test.shape)"
      ],
      "metadata": {
        "colab": {
          "base_uri": "https://localhost:8080/"
        },
        "id": "5p60Yu7WXRzp",
        "outputId": "794b5167-8e3d-45f7-f247-eee34289dbec"
      },
      "execution_count": null,
      "outputs": [
        {
          "output_type": "stream",
          "name": "stdout",
          "text": [
            "Training Shape: (240, 40)\n",
            "Testing Shape: (60, 40)\n"
          ]
        }
      ]
    },
    {
      "cell_type": "code",
      "source": [
        "# Define the model architecture\n",
        "model = Sequential()\n",
        "model.add(Dense(256, input_shape=(X_train.shape[1],)))\n",
        "model.add(Activation('relu'))\n",
        "model.add(Dropout(0.5))\n",
        "model.add(Dense(128))\n",
        "model.add(Activation('relu'))\n",
        "model.add(Dropout(0.5))\n",
        "model.add(Dense(1))\n",
        "model.add(Activation('sigmoid'))\n",
        "\n",
        "# Compile the model\n",
        "model.compile(loss='binary_crossentropy', optimizer=Adam(learning_rate=0.001), metrics=['accuracy'])\n",
        "model.summary()"
      ],
      "metadata": {
        "colab": {
          "base_uri": "https://localhost:8080/"
        },
        "id": "trDGkw-IXQdc",
        "outputId": "701fb287-67bb-4875-de61-7fdfecb66cba"
      },
      "execution_count": null,
      "outputs": [
        {
          "output_type": "stream",
          "name": "stdout",
          "text": [
            "Model: \"sequential_1\"\n",
            "_________________________________________________________________\n",
            " Layer (type)                Output Shape              Param #   \n",
            "=================================================================\n",
            " dense_3 (Dense)             (None, 256)               10496     \n",
            "                                                                 \n",
            " activation_3 (Activation)   (None, 256)               0         \n",
            "                                                                 \n",
            " dropout_2 (Dropout)         (None, 256)               0         \n",
            "                                                                 \n",
            " dense_4 (Dense)             (None, 128)               32896     \n",
            "                                                                 \n",
            " activation_4 (Activation)   (None, 128)               0         \n",
            "                                                                 \n",
            " dropout_3 (Dropout)         (None, 128)               0         \n",
            "                                                                 \n",
            " dense_5 (Dense)             (None, 1)                 129       \n",
            "                                                                 \n",
            " activation_5 (Activation)   (None, 1)                 0         \n",
            "                                                                 \n",
            "=================================================================\n",
            "Total params: 43,521\n",
            "Trainable params: 43,521\n",
            "Non-trainable params: 0\n",
            "_________________________________________________________________\n"
          ]
        }
      ]
    },
    {
      "cell_type": "code",
      "source": [
        "# Train the model\n",
        "model.fit(X_train, y_train, batch_size=32, epochs=50, validation_data=(X_test, y_test))\n",
        "\n",
        "# Evaluate the model on the testing data\n",
        "loss, accuracy = model.evaluate(X_test, y_test)\n",
        "print('Test loss:', loss)\n",
        "print('Test accuracy:', accuracy)\n"
      ],
      "metadata": {
        "colab": {
          "base_uri": "https://localhost:8080/"
        },
        "id": "266dG-LYU7t8",
        "outputId": "61f07d2c-2cf2-47ce-f2b6-011c388043e7"
      },
      "execution_count": null,
      "outputs": [
        {
          "output_type": "stream",
          "name": "stdout",
          "text": [
            "Epoch 1/50\n",
            "8/8 [==============================] - 1s 36ms/step - loss: 17.9416 - accuracy: 0.5917 - val_loss: 8.9083 - val_accuracy: 0.5000\n",
            "Epoch 2/50\n",
            "8/8 [==============================] - 0s 7ms/step - loss: 16.4331 - accuracy: 0.5167 - val_loss: 1.6834 - val_accuracy: 0.7500\n",
            "Epoch 3/50\n",
            "8/8 [==============================] - 0s 7ms/step - loss: 11.5974 - accuracy: 0.6000 - val_loss: 1.6115 - val_accuracy: 0.8000\n",
            "Epoch 4/50\n",
            "8/8 [==============================] - 0s 7ms/step - loss: 8.4304 - accuracy: 0.6375 - val_loss: 2.0601 - val_accuracy: 0.7833\n",
            "Epoch 5/50\n",
            "8/8 [==============================] - 0s 7ms/step - loss: 10.5324 - accuracy: 0.5833 - val_loss: 0.3510 - val_accuracy: 0.9333\n",
            "Epoch 6/50\n",
            "8/8 [==============================] - 0s 7ms/step - loss: 7.0237 - accuracy: 0.6708 - val_loss: 1.5490 - val_accuracy: 0.8000\n",
            "Epoch 7/50\n",
            "8/8 [==============================] - 0s 8ms/step - loss: 4.9416 - accuracy: 0.7042 - val_loss: 0.8169 - val_accuracy: 0.8333\n",
            "Epoch 8/50\n",
            "8/8 [==============================] - 0s 7ms/step - loss: 3.5223 - accuracy: 0.7625 - val_loss: 0.6024 - val_accuracy: 0.8333\n",
            "Epoch 9/50\n",
            "8/8 [==============================] - 0s 7ms/step - loss: 3.6078 - accuracy: 0.7250 - val_loss: 0.2532 - val_accuracy: 0.9500\n",
            "Epoch 10/50\n",
            "8/8 [==============================] - 0s 7ms/step - loss: 3.1307 - accuracy: 0.7625 - val_loss: 0.1955 - val_accuracy: 0.9500\n",
            "Epoch 11/50\n",
            "8/8 [==============================] - 0s 7ms/step - loss: 2.5494 - accuracy: 0.7958 - val_loss: 0.1799 - val_accuracy: 0.9500\n",
            "Epoch 12/50\n",
            "8/8 [==============================] - 0s 7ms/step - loss: 2.4058 - accuracy: 0.7792 - val_loss: 0.1563 - val_accuracy: 0.9500\n",
            "Epoch 13/50\n",
            "8/8 [==============================] - 0s 7ms/step - loss: 1.7774 - accuracy: 0.8208 - val_loss: 0.1265 - val_accuracy: 0.9500\n",
            "Epoch 14/50\n",
            "8/8 [==============================] - 0s 7ms/step - loss: 1.6595 - accuracy: 0.8208 - val_loss: 0.1209 - val_accuracy: 0.9500\n",
            "Epoch 15/50\n",
            "8/8 [==============================] - 0s 7ms/step - loss: 1.6939 - accuracy: 0.8250 - val_loss: 0.0923 - val_accuracy: 0.9500\n",
            "Epoch 16/50\n",
            "8/8 [==============================] - 0s 7ms/step - loss: 2.1426 - accuracy: 0.7667 - val_loss: 0.1061 - val_accuracy: 0.9500\n",
            "Epoch 17/50\n",
            "8/8 [==============================] - 0s 7ms/step - loss: 1.7279 - accuracy: 0.7833 - val_loss: 0.1463 - val_accuracy: 0.9333\n",
            "Epoch 18/50\n",
            "8/8 [==============================] - 0s 7ms/step - loss: 1.2868 - accuracy: 0.8458 - val_loss: 0.1481 - val_accuracy: 0.9500\n",
            "Epoch 19/50\n",
            "8/8 [==============================] - 0s 7ms/step - loss: 1.2023 - accuracy: 0.8167 - val_loss: 0.1189 - val_accuracy: 0.9500\n",
            "Epoch 20/50\n",
            "8/8 [==============================] - 0s 7ms/step - loss: 1.9137 - accuracy: 0.7917 - val_loss: 0.1031 - val_accuracy: 0.9500\n",
            "Epoch 21/50\n",
            "8/8 [==============================] - 0s 7ms/step - loss: 1.1863 - accuracy: 0.8125 - val_loss: 0.1206 - val_accuracy: 0.9500\n",
            "Epoch 22/50\n",
            "8/8 [==============================] - 0s 7ms/step - loss: 1.6049 - accuracy: 0.7583 - val_loss: 0.1021 - val_accuracy: 0.9500\n",
            "Epoch 23/50\n",
            "8/8 [==============================] - 0s 7ms/step - loss: 1.1581 - accuracy: 0.8542 - val_loss: 0.0973 - val_accuracy: 0.9500\n",
            "Epoch 24/50\n",
            "8/8 [==============================] - 0s 7ms/step - loss: 1.0914 - accuracy: 0.8583 - val_loss: 0.1224 - val_accuracy: 0.9500\n",
            "Epoch 25/50\n",
            "8/8 [==============================] - 0s 7ms/step - loss: 1.1178 - accuracy: 0.8250 - val_loss: 0.1021 - val_accuracy: 0.9667\n",
            "Epoch 26/50\n",
            "8/8 [==============================] - 0s 7ms/step - loss: 0.7381 - accuracy: 0.8333 - val_loss: 0.1097 - val_accuracy: 0.9500\n",
            "Epoch 27/50\n",
            "8/8 [==============================] - 0s 7ms/step - loss: 0.8994 - accuracy: 0.8458 - val_loss: 0.1045 - val_accuracy: 0.9500\n",
            "Epoch 28/50\n",
            "8/8 [==============================] - 0s 7ms/step - loss: 0.7062 - accuracy: 0.8417 - val_loss: 0.1267 - val_accuracy: 0.9500\n",
            "Epoch 29/50\n",
            "8/8 [==============================] - 0s 7ms/step - loss: 0.7473 - accuracy: 0.8542 - val_loss: 0.1523 - val_accuracy: 0.9333\n",
            "Epoch 30/50\n",
            "8/8 [==============================] - 0s 7ms/step - loss: 0.8963 - accuracy: 0.8417 - val_loss: 0.1673 - val_accuracy: 0.9333\n",
            "Epoch 31/50\n",
            "8/8 [==============================] - 0s 7ms/step - loss: 0.6597 - accuracy: 0.8333 - val_loss: 0.1300 - val_accuracy: 0.9500\n",
            "Epoch 32/50\n",
            "8/8 [==============================] - 0s 7ms/step - loss: 0.7573 - accuracy: 0.8542 - val_loss: 0.1525 - val_accuracy: 0.9333\n",
            "Epoch 33/50\n",
            "8/8 [==============================] - 0s 7ms/step - loss: 0.9269 - accuracy: 0.8042 - val_loss: 0.2345 - val_accuracy: 0.8833\n",
            "Epoch 34/50\n",
            "8/8 [==============================] - 0s 7ms/step - loss: 0.7133 - accuracy: 0.8625 - val_loss: 0.2593 - val_accuracy: 0.8667\n",
            "Epoch 35/50\n",
            "8/8 [==============================] - 0s 7ms/step - loss: 0.6478 - accuracy: 0.8375 - val_loss: 0.2127 - val_accuracy: 0.9333\n",
            "Epoch 36/50\n",
            "8/8 [==============================] - 0s 7ms/step - loss: 0.4225 - accuracy: 0.8625 - val_loss: 0.1982 - val_accuracy: 0.9500\n",
            "Epoch 37/50\n",
            "8/8 [==============================] - 0s 7ms/step - loss: 0.5128 - accuracy: 0.8708 - val_loss: 0.1957 - val_accuracy: 0.9500\n",
            "Epoch 38/50\n",
            "8/8 [==============================] - 0s 7ms/step - loss: 0.5141 - accuracy: 0.8667 - val_loss: 0.2164 - val_accuracy: 0.9500\n",
            "Epoch 39/50\n",
            "8/8 [==============================] - 0s 7ms/step - loss: 0.5197 - accuracy: 0.8542 - val_loss: 0.2047 - val_accuracy: 0.9667\n",
            "Epoch 40/50\n",
            "8/8 [==============================] - 0s 7ms/step - loss: 0.5671 - accuracy: 0.8667 - val_loss: 0.1894 - val_accuracy: 0.9500\n",
            "Epoch 41/50\n",
            "8/8 [==============================] - 0s 7ms/step - loss: 0.4974 - accuracy: 0.8583 - val_loss: 0.1877 - val_accuracy: 0.9667\n",
            "Epoch 42/50\n",
            "8/8 [==============================] - 0s 7ms/step - loss: 0.6411 - accuracy: 0.8333 - val_loss: 0.1891 - val_accuracy: 0.9667\n",
            "Epoch 43/50\n",
            "8/8 [==============================] - 0s 7ms/step - loss: 0.5326 - accuracy: 0.8542 - val_loss: 0.1883 - val_accuracy: 0.9667\n",
            "Epoch 44/50\n",
            "8/8 [==============================] - 0s 7ms/step - loss: 0.5893 - accuracy: 0.8667 - val_loss: 0.1893 - val_accuracy: 0.9500\n",
            "Epoch 45/50\n",
            "8/8 [==============================] - 0s 7ms/step - loss: 0.2530 - accuracy: 0.9042 - val_loss: 0.1827 - val_accuracy: 0.9500\n",
            "Epoch 46/50\n",
            "8/8 [==============================] - 0s 7ms/step - loss: 0.6133 - accuracy: 0.8458 - val_loss: 0.1801 - val_accuracy: 0.9667\n",
            "Epoch 47/50\n",
            "8/8 [==============================] - 0s 7ms/step - loss: 0.3588 - accuracy: 0.8875 - val_loss: 0.1918 - val_accuracy: 0.9500\n",
            "Epoch 48/50\n",
            "8/8 [==============================] - 0s 7ms/step - loss: 0.4367 - accuracy: 0.8458 - val_loss: 0.2240 - val_accuracy: 0.9333\n",
            "Epoch 49/50\n",
            "8/8 [==============================] - 0s 7ms/step - loss: 0.3089 - accuracy: 0.8875 - val_loss: 0.2511 - val_accuracy: 0.9167\n",
            "Epoch 50/50\n",
            "8/8 [==============================] - 0s 7ms/step - loss: 0.4345 - accuracy: 0.8750 - val_loss: 0.2323 - val_accuracy: 0.9333\n",
            "2/2 [==============================] - 0s 6ms/step - loss: 0.2323 - accuracy: 0.9333\n",
            "Test loss: 0.23227493464946747\n",
            "Test accuracy: 0.9333333373069763\n"
          ]
        }
      ]
    },
    {
      "cell_type": "code",
      "source": [
        "classes = le.classes_.tolist()"
      ],
      "metadata": {
        "id": "QHFNZQxhYFCz"
      },
      "execution_count": null,
      "outputs": []
    },
    {
      "cell_type": "code",
      "source": [
        "def prediction(file):\n",
        "  # Classify new audio files\n",
        "  new_file_path = file\n",
        "  new_features = extract_features(new_file_path)\n",
        "  new_features = np.expand_dims(new_features, axis=0)\n",
        "  prediction = model.predict(new_features, verbose=0)\n",
        "  prediction_class = classes[int(np.round(prediction)[0][0])]\n",
        "  print('Prediction:', prediction_class)"
      ],
      "metadata": {
        "id": "2rBWihUGYV8e"
      },
      "execution_count": null,
      "outputs": []
    },
    {
      "cell_type": "code",
      "source": [
        "# Classify new audio files\n",
        "prediction(\"/content/drive/MyDrive/Audio_datasets/Car_honk/145577__bmoreno__0029-horn.wav\")"
      ],
      "metadata": {
        "colab": {
          "base_uri": "https://localhost:8080/"
        },
        "id": "5LJcI1jTXn6E",
        "outputId": "9774a31a-a3db-4717-bfaa-d375fdc41712"
      },
      "execution_count": null,
      "outputs": [
        {
          "output_type": "stream",
          "name": "stdout",
          "text": [
            "Prediction: car_horn\n"
          ]
        }
      ]
    },
    {
      "cell_type": "code",
      "source": [
        "# Classify new audio files\n",
        "prediction(\"/content/drive/MyDrive/Audio_datasets/Dog_bark/326563__bee09__dogs-barking-variation.wav\")"
      ],
      "metadata": {
        "colab": {
          "base_uri": "https://localhost:8080/"
        },
        "id": "9l2y38P8YlmJ",
        "outputId": "ebb01495-cd7f-4468-ec9a-938bbe642196"
      },
      "execution_count": null,
      "outputs": [
        {
          "output_type": "stream",
          "name": "stdout",
          "text": [
            "Prediction: dog_bark\n"
          ]
        }
      ]
    },
    {
      "cell_type": "code",
      "source": [],
      "metadata": {
        "id": "997fMF4dYvzZ"
      },
      "execution_count": null,
      "outputs": []
    }
  ]
}